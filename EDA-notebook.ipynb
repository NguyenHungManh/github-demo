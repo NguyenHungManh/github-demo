{
  "cells": [
    {
      "cell_type": "code",
      "execution_count": null,
      "id": "dbf169f1",
      "metadata": {
        "id": "dbf169f1"
      },
      "outputs": [],
      "source": [
        "# Import necessary libraries\n",
        "import pandas as pd\n",
        "import numpy as np\n",
        "import seaborn as sns\n"
      ]
    },
    {
      "cell_type": "code",
      "source": [
        "data = pd.read_csv(\"train.csv\")"
      ],
      "metadata": {
        "id": "NGLpdLou-6Q8"
      },
      "id": "NGLpdLou-6Q8",
      "execution_count": null,
      "outputs": []
    }
  ],
  "metadata": {
    "language_info": {
      "name": "python"
    },
    "colab": {
      "provenance": []
    }
  },
  "nbformat": 4,
  "nbformat_minor": 5
}